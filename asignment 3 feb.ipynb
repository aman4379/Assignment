{
 "cells": [
  {
   "cell_type": "code",
   "execution_count": null,
   "id": "091d3d61-585c-4793-94d3-07dee0854373",
   "metadata": {},
   "outputs": [],
   "source": [
    "Q1. Which keyword is used to create a function? Create a function to return a list of odd numbers in the\n",
    "range of 1 to 25."
   ]
  },
  {
   "cell_type": "code",
   "execution_count": null,
   "id": "d872e233-e120-4ee6-b844-3ba9561ff54f",
   "metadata": {},
   "outputs": [],
   "source": [
    "Ans. The keyword used to create a function is \"def\" . \n",
    "Eg."
   ]
  },
  {
   "cell_type": "code",
   "execution_count": 4,
   "id": "aac6068e-829a-4e28-8d1a-26c27347f788",
   "metadata": {},
   "outputs": [],
   "source": [
    "l=[]\n",
    "def odd_nu():\n",
    "    for i in range(1,25,2):\n",
    "        l.append(i)\n",
    "    return l"
   ]
  },
  {
   "cell_type": "code",
   "execution_count": 5,
   "id": "63818d46-9520-4f3e-b023-4dce9ae927f2",
   "metadata": {},
   "outputs": [
    {
     "data": {
      "text/plain": [
       "[1, 3, 5, 7, 9, 11, 13, 15, 17, 19, 21, 23]"
      ]
     },
     "execution_count": 5,
     "metadata": {},
     "output_type": "execute_result"
    }
   ],
   "source": [
    "odd_nu()"
   ]
  },
  {
   "cell_type": "code",
   "execution_count": null,
   "id": "5148a2bd-0ae9-4376-8366-4bc0716d162e",
   "metadata": {},
   "outputs": [],
   "source": [
    "Q2. Why *args and **kwargs is used in some functions? Create a function each for *args and **kwargs\n",
    "to demonstrate their use."
   ]
  },
  {
   "cell_type": "code",
   "execution_count": null,
   "id": "9572457b-2627-4118-84dd-0d081572da6b",
   "metadata": {},
   "outputs": [],
   "source": [
    "Ans. *args is used in function so that we can give n numbers of arguments in the function."
   ]
  },
  {
   "cell_type": "code",
   "execution_count": 7,
   "id": "7966e346-8af0-44d2-bf66-83d36639740c",
   "metadata": {},
   "outputs": [],
   "source": [
    "def add_num(*args):\n",
    "    l= args\n",
    "    sm = 0\n",
    "    for i in l:\n",
    "        sm+=i\n",
    "    return sm"
   ]
  },
  {
   "cell_type": "code",
   "execution_count": 10,
   "id": "472bb6ec-26c8-4cdd-865d-4adbe39a5881",
   "metadata": {},
   "outputs": [
    {
     "data": {
      "text/plain": [
       "36"
      ]
     },
     "execution_count": 10,
     "metadata": {},
     "output_type": "execute_result"
    }
   ],
   "source": [
    "add_num(1,2,3,4,5,10,11)"
   ]
  },
  {
   "cell_type": "code",
   "execution_count": null,
   "id": "60589201-3c63-48a3-aef8-d1619739b3f7",
   "metadata": {},
   "outputs": [],
   "source": [
    "Ans. **kwargs is used when we want to pass key value pairs of a dictionary as arguments in function."
   ]
  },
  {
   "cell_type": "code",
   "execution_count": 11,
   "id": "ab9e829e-2fa5-4857-adfd-8379f68f9660",
   "metadata": {},
   "outputs": [],
   "source": [
    "def dict_wr(**kwargs):\n",
    "    print(\"Here is the dictionary\")\n",
    "    return kwargs"
   ]
  },
  {
   "cell_type": "code",
   "execution_count": 17,
   "id": "4f5da26b-11db-4c89-9741-878eb5221de6",
   "metadata": {},
   "outputs": [
    {
     "name": "stdout",
     "output_type": "stream",
     "text": [
      "Here is the dictionary\n"
     ]
    },
    {
     "data": {
      "text/plain": [
       "{'a': 1, 'b': 23, 'c': 'aman', 'd': [1, 2, 3, 'hello']}"
      ]
     },
     "execution_count": 17,
     "metadata": {},
     "output_type": "execute_result"
    }
   ],
   "source": [
    "dict_wr(a = 1,b = 23,c ='aman',d =[1,2,3,'hello'])"
   ]
  },
  {
   "cell_type": "code",
   "execution_count": null,
   "id": "b87cfa06-a1f8-4735-812f-5d4a57e49ced",
   "metadata": {},
   "outputs": [],
   "source": [
    "Q3. What is an iterator in python? Name the method used to initialise the iterator object and the method\n",
    "used for iteration. Use these methods to print the first five elements of the given list [2, 4, 6, 8, 10, 12, 14,\n",
    "16, 18, 20]."
   ]
  },
  {
   "cell_type": "code",
   "execution_count": null,
   "id": "5f9751b5-1455-4bea-9b70-fdee48711d1b",
   "metadata": {},
   "outputs": [],
   "source": [
    "Iterator is an object that is used to iterate over iterable objects like list, tuple, sets, dictionary. The method\n",
    "used to initialise the iterator object is iter(). And the method used for iteration is next()."
   ]
  },
  {
   "cell_type": "code",
   "execution_count": 7,
   "id": "ff3395cb-8f26-43fe-82e7-a47b04f5ac27",
   "metadata": {},
   "outputs": [
    {
     "name": "stdout",
     "output_type": "stream",
     "text": [
      "2\n",
      "4\n",
      "6\n",
      "8\n",
      "10\n"
     ]
    }
   ],
   "source": [
    "l = [2, 4, 6, 8, 10, 12, 14, 16, 18, 20]\n",
    "k = iter(l)\n",
    "for i in range(0,5):\n",
    "    print(next(k))"
   ]
  },
  {
   "cell_type": "code",
   "execution_count": null,
   "id": "6fbad7d9-904f-4984-b709-a4fab8e85c2c",
   "metadata": {},
   "outputs": [],
   "source": [
    "Q4. What is a generator function in python? Why yield keyword is used? Give an example of a generator\n",
    "function."
   ]
  },
  {
   "cell_type": "code",
   "execution_count": 8,
   "id": "e9db246c-81e3-4423-939c-5862c9254df3",
   "metadata": {},
   "outputs": [
    {
     "ename": "SyntaxError",
     "evalue": "invalid syntax (1533949078.py, line 1)",
     "output_type": "error",
     "traceback": [
      "\u001b[0;36m  Cell \u001b[0;32mIn[8], line 1\u001b[0;36m\u001b[0m\n\u001b[0;31m    A Generator is a function that returns an object which we can iterate over, but one value at a time.\u001b[0m\n\u001b[0m      ^\u001b[0m\n\u001b[0;31mSyntaxError\u001b[0m\u001b[0;31m:\u001b[0m invalid syntax\n"
     ]
    }
   ],
   "source": [
    "A Generator is a function that returns an object which we can iterate over, but one value at a time.\n",
    "Yield keyword is used to return generator object rather than values to the function it calls.\n"
   ]
  },
  {
   "cell_type": "code",
   "execution_count": 10,
   "id": "20f8633f-daa4-46b7-a9f5-ac32faf9d1b9",
   "metadata": {},
   "outputs": [
    {
     "name": "stdout",
     "output_type": "stream",
     "text": [
      "[0, 1, 2, 3, 4, 5, 6, 7, 8, 9]\n"
     ]
    }
   ],
   "source": [
    "def count(n):\n",
    "    for i in range(0, n):\n",
    "        yield i\n",
    "k = count(10)\n",
    "print(list(k))"
   ]
  },
  {
   "cell_type": "code",
   "execution_count": null,
   "id": "6cd9f101-687e-43d0-aae7-f70ba32501ac",
   "metadata": {},
   "outputs": [],
   "source": [
    "Q5. Create a generator function for prime numbers less than 1000. Use the next() method to print the\n",
    "first 20 prime numbers."
   ]
  },
  {
   "cell_type": "code",
   "execution_count": 1,
   "id": "12b170c4-90ac-47c7-acd0-ff344621d4c7",
   "metadata": {},
   "outputs": [
    {
     "name": "stdout",
     "output_type": "stream",
     "text": [
      "1\n",
      "2\n",
      "3\n",
      "5\n",
      "7\n",
      "11\n",
      "13\n",
      "17\n",
      "19\n",
      "23\n",
      "29\n",
      "31\n",
      "37\n",
      "41\n",
      "43\n",
      "47\n",
      "53\n",
      "59\n",
      "61\n",
      "67\n"
     ]
    }
   ],
   "source": [
    "\n",
    "def prime_num(n):\n",
    "    for i in range(1,n):\n",
    "        k=0\n",
    "        for j in range(2,i):\n",
    "                if(i%j==0):\n",
    "                    k=1\n",
    "        if(k==0):\n",
    "                yield i\n",
    "m = prime_num(100)\n",
    "h= iter(m)\n",
    "for i in range(0,20):\n",
    "    print(next(h))"
   ]
  },
  {
   "cell_type": "code",
   "execution_count": null,
   "id": "edfbef8c-db40-42f1-8dc0-1c0a0e628284",
   "metadata": {},
   "outputs": [],
   "source": []
  },
  {
   "cell_type": "code",
   "execution_count": null,
   "id": "32e491b0-ddc2-4403-a8d1-5cdc88627cd4",
   "metadata": {},
   "outputs": [],
   "source": []
  },
  {
   "cell_type": "code",
   "execution_count": null,
   "id": "fc6804d9-db8b-48d3-a002-d5accbab9924",
   "metadata": {},
   "outputs": [],
   "source": []
  },
  {
   "cell_type": "code",
   "execution_count": null,
   "id": "52ff5717-362d-4c2d-93c9-d951e8681906",
   "metadata": {},
   "outputs": [],
   "source": [
    "Q6. Write a python program to print the first 10 Fibonacci numbers using a while loop."
   ]
  },
  {
   "cell_type": "code",
   "execution_count": 9,
   "id": "5c156189-bbb5-483b-938b-f996d959b1fd",
   "metadata": {},
   "outputs": [
    {
     "name": "stdin",
     "output_type": "stream",
     "text": [
      "Enter the number of terms you want the fibonacci: 10\n"
     ]
    },
    {
     "name": "stdout",
     "output_type": "stream",
     "text": [
      "0\n",
      "1\n",
      "1\n",
      "2\n",
      "3\n",
      "5\n",
      "8\n",
      "13\n",
      "21\n",
      "34\n"
     ]
    }
   ],
   "source": [
    "a = int(input(\"Enter the number of terms you want the fibonacci:\"))\n",
    "b,c = 0,1\n",
    "d,i = 0,2\n",
    "print(b)\n",
    "print(c)\n",
    "while(i<a):\n",
    "    d = b+c\n",
    "    print(d)\n",
    "    b=c\n",
    "    c=d\n",
    "    i=i+1\n"
   ]
  },
  {
   "cell_type": "code",
   "execution_count": null,
   "id": "5f57b304-1a8f-4fb4-b81e-50d32da38225",
   "metadata": {},
   "outputs": [],
   "source": [
    "Q7. Write a List Comprehension to iterate through the given string: ‘pwskills’.\n",
    "Expected output: ['p', 'w', 's', 'k', 'i', 'l', 'l', 's']"
   ]
  },
  {
   "cell_type": "code",
   "execution_count": 10,
   "id": "ce3c6302-e378-4688-aba7-8ac390b10891",
   "metadata": {},
   "outputs": [],
   "source": [
    "l = 'pwskills'"
   ]
  },
  {
   "cell_type": "code",
   "execution_count": 11,
   "id": "be6e8338-5966-409a-a4e7-7238260ecbe9",
   "metadata": {},
   "outputs": [
    {
     "data": {
      "text/plain": [
       "['p', 'w', 's', 'k', 'i', 'l', 'l', 's']"
      ]
     },
     "execution_count": 11,
     "metadata": {},
     "output_type": "execute_result"
    }
   ],
   "source": [
    "l1 = [i for i in l]\n",
    "l1"
   ]
  },
  {
   "cell_type": "code",
   "execution_count": null,
   "id": "519524c8-5ab8-43fb-864e-30a93113e832",
   "metadata": {},
   "outputs": [],
   "source": [
    "Q8. Write a python program to check whether a given number is Palindrome or not using a while loop."
   ]
  },
  {
   "cell_type": "code",
   "execution_count": 42,
   "id": "f38b6a7c-fc62-4fdb-a9f8-e89b45cce826",
   "metadata": {},
   "outputs": [
    {
     "name": "stdin",
     "output_type": "stream",
     "text": [
      "Enter the number  19191919191\n"
     ]
    },
    {
     "name": "stdout",
     "output_type": "stream",
     "text": [
      "Number is palindrome \n"
     ]
    }
   ],
   "source": [
    "n = input('Enter the number ')\n",
    "l= len(n)-1\n",
    "t=True\n",
    "i=0\n",
    "while(i<=l):\n",
    "    if(n[i]!=n[l]):\n",
    "        t=False\n",
    "        break\n",
    "    i+=1\n",
    "    l-=1\n",
    "if(t==True):\n",
    "    print('Number is palindrome ')\n",
    "else:\n",
    "    print('number is not palindrome')"
   ]
  },
  {
   "cell_type": "markdown",
   "id": "3e77b10a-ffb1-413f-b804-f733e7fac152",
   "metadata": {},
   "source": [
    "Q9. Write a code to print odd numbers from 1 to 100 using list comprehension."
   ]
  },
  {
   "cell_type": "code",
   "execution_count": 68,
   "id": "3504cb9a-e05d-4e88-acdb-aceb3849874c",
   "metadata": {},
   "outputs": [
    {
     "data": {
      "text/plain": [
       "[1,\n",
       " 3,\n",
       " 5,\n",
       " 7,\n",
       " 9,\n",
       " 11,\n",
       " 13,\n",
       " 15,\n",
       " 17,\n",
       " 19,\n",
       " 21,\n",
       " 23,\n",
       " 25,\n",
       " 27,\n",
       " 29,\n",
       " 31,\n",
       " 33,\n",
       " 35,\n",
       " 37,\n",
       " 39,\n",
       " 41,\n",
       " 43,\n",
       " 45,\n",
       " 47,\n",
       " 49,\n",
       " 51,\n",
       " 53,\n",
       " 55,\n",
       " 57,\n",
       " 59,\n",
       " 61,\n",
       " 63,\n",
       " 65,\n",
       " 67,\n",
       " 69,\n",
       " 71,\n",
       " 73,\n",
       " 75,\n",
       " 77,\n",
       " 79,\n",
       " 81,\n",
       " 83,\n",
       " 85,\n",
       " 87,\n",
       " 89,\n",
       " 91,\n",
       " 93,\n",
       " 95,\n",
       " 97,\n",
       " 99]"
      ]
     },
     "execution_count": 68,
     "metadata": {},
     "output_type": "execute_result"
    }
   ],
   "source": [
    "\n",
    "l=[i for i in range(1,100,2)]\n",
    "l"
   ]
  },
  {
   "cell_type": "code",
   "execution_count": null,
   "id": "6e3c5c40-240a-45b6-b1f4-32fcd97a4de6",
   "metadata": {},
   "outputs": [],
   "source": []
  },
  {
   "cell_type": "code",
   "execution_count": null,
   "id": "c83a7ad6-512f-48c9-94cc-6524c9399cbc",
   "metadata": {},
   "outputs": [],
   "source": []
  }
 ],
 "metadata": {
  "kernelspec": {
   "display_name": "Python 3 (ipykernel)",
   "language": "python",
   "name": "python3"
  },
  "language_info": {
   "codemirror_mode": {
    "name": "ipython",
    "version": 3
   },
   "file_extension": ".py",
   "mimetype": "text/x-python",
   "name": "python",
   "nbconvert_exporter": "python",
   "pygments_lexer": "ipython3",
   "version": "3.10.8"
  }
 },
 "nbformat": 4,
 "nbformat_minor": 5
}
